{
 "cells": [
  {
   "cell_type": "code",
   "execution_count": null,
   "metadata": {},
   "outputs": [],
   "source": [
    "# Formação Cientista de Dados - Fernando Amaral e Jones Granatyr\n",
    "# Regras de associação"
   ]
  },
  {
   "cell_type": "code",
   "execution_count": 1,
   "metadata": {},
   "outputs": [],
   "source": [
    "# Importação das bibliotecas\n",
    "import pandas as pd\n",
    "from apyori import apriori\n",
    "#pip install apyori (executar no Anaconda Prompt)"
   ]
  },
  {
   "cell_type": "code",
   "execution_count": 2,
   "metadata": {},
   "outputs": [
    {
     "data": {
      "text/html": [
       "<div>\n",
       "<style scoped>\n",
       "    .dataframe tbody tr th:only-of-type {\n",
       "        vertical-align: middle;\n",
       "    }\n",
       "\n",
       "    .dataframe tbody tr th {\n",
       "        vertical-align: top;\n",
       "    }\n",
       "\n",
       "    .dataframe thead th {\n",
       "        text-align: right;\n",
       "    }\n",
       "</style>\n",
       "<table border=\"1\" class=\"dataframe\">\n",
       "  <thead>\n",
       "    <tr style=\"text-align: right;\">\n",
       "      <th></th>\n",
       "      <th>0</th>\n",
       "      <th>1</th>\n",
       "      <th>2</th>\n",
       "    </tr>\n",
       "  </thead>\n",
       "  <tbody>\n",
       "    <tr>\n",
       "      <th>0</th>\n",
       "      <td>Cerveja</td>\n",
       "      <td>Pizza</td>\n",
       "      <td>Sorvete</td>\n",
       "    </tr>\n",
       "    <tr>\n",
       "      <th>1</th>\n",
       "      <td>Pizza</td>\n",
       "      <td>Sorvete</td>\n",
       "      <td>NaN</td>\n",
       "    </tr>\n",
       "    <tr>\n",
       "      <th>2</th>\n",
       "      <td>Cerveja</td>\n",
       "      <td>Pizza</td>\n",
       "      <td>NaN</td>\n",
       "    </tr>\n",
       "    <tr>\n",
       "      <th>3</th>\n",
       "      <td>Cerveja</td>\n",
       "      <td>Pizza</td>\n",
       "      <td>Sorvete</td>\n",
       "    </tr>\n",
       "    <tr>\n",
       "      <th>4</th>\n",
       "      <td>Cerveja</td>\n",
       "      <td>Pizza</td>\n",
       "      <td>NaN</td>\n",
       "    </tr>\n",
       "    <tr>\n",
       "      <th>5</th>\n",
       "      <td>Pizza</td>\n",
       "      <td>NaN</td>\n",
       "      <td>NaN</td>\n",
       "    </tr>\n",
       "  </tbody>\n",
       "</table>\n",
       "</div>"
      ],
      "text/plain": [
       "         0        1        2\n",
       "0  Cerveja    Pizza  Sorvete\n",
       "1    Pizza  Sorvete      NaN\n",
       "2  Cerveja    Pizza      NaN\n",
       "3  Cerveja    Pizza  Sorvete\n",
       "4  Cerveja    Pizza      NaN\n",
       "5    Pizza      NaN      NaN"
      ]
     },
     "execution_count": 2,
     "metadata": {},
     "output_type": "execute_result"
    }
   ],
   "source": [
    "# Leitura das trasações \n",
    "dados = pd.read_csv('transacoes.txt', header = None)\n",
    "dados"
   ]
  },
  {
   "cell_type": "code",
   "execution_count": 3,
   "metadata": {},
   "outputs": [
    {
     "data": {
      "text/plain": [
       "[['Cerveja', 'Pizza', 'Sorvete'],\n",
       " ['Pizza', 'Sorvete', 'nan'],\n",
       " ['Cerveja', 'Pizza', 'nan'],\n",
       " ['Cerveja', 'Pizza', 'Sorvete'],\n",
       " ['Cerveja', 'Pizza', 'nan'],\n",
       " ['Pizza', 'nan', 'nan']]"
      ]
     },
     "execution_count": 3,
     "metadata": {},
     "output_type": "execute_result"
    }
   ],
   "source": [
    "#transformação para o formato de lista, que é exigido pela biblioteca apyori - 6 é a quantidade de itens na base de dados\n",
    "transacoes = []\n",
    "for i in range(0,6):\n",
    "    transacoes.append([str(dados.values[i,j]) for j in range(0,3)])\n",
    "transacoes"
   ]
  },
  {
   "cell_type": "code",
   "execution_count": 4,
   "metadata": {},
   "outputs": [],
   "source": [
    "# Execução do algoritmo apriori para geração das regras de associação, definindo os parâmetros de suporte e confiança\n",
    "regras = apriori(transacoes, min_support = 0.5, min_confidence = 0.5,min_length=2)"
   ]
  },
  {
   "cell_type": "code",
   "execution_count": 7,
   "metadata": {},
   "outputs": [
    {
     "ename": "IndexError",
     "evalue": "list index out of range",
     "output_type": "error",
     "traceback": [
      "\u001b[1;31m---------------------------------------------------------------------------\u001b[0m",
      "\u001b[1;31mIndexError\u001b[0m                                Traceback (most recent call last)",
      "\u001b[1;32m<ipython-input-7-05a07f856924>\u001b[0m in \u001b[0;36m<module>\u001b[1;34m\u001b[0m\n\u001b[0;32m      1\u001b[0m \u001b[1;31m# Criação de nova variável para armazenar somente as regras de associação\u001b[0m\u001b[1;33m\u001b[0m\u001b[1;33m\u001b[0m\u001b[1;33m\u001b[0m\u001b[0m\n\u001b[0;32m      2\u001b[0m \u001b[0mresultados\u001b[0m \u001b[1;33m=\u001b[0m \u001b[0mlist\u001b[0m\u001b[1;33m(\u001b[0m\u001b[0mregras\u001b[0m\u001b[1;33m)\u001b[0m\u001b[1;33m\u001b[0m\u001b[1;33m\u001b[0m\u001b[0m\n\u001b[1;32m----> 3\u001b[1;33m \u001b[0mprint\u001b[0m\u001b[1;33m(\u001b[0m\u001b[0mresultados\u001b[0m\u001b[1;33m[\u001b[0m\u001b[1;36m0\u001b[0m\u001b[1;33m]\u001b[0m\u001b[1;33m)\u001b[0m\u001b[1;33m\u001b[0m\u001b[1;33m\u001b[0m\u001b[0m\n\u001b[0m\u001b[0;32m      4\u001b[0m \u001b[0mresultados\u001b[0m\u001b[1;33m\u001b[0m\u001b[1;33m\u001b[0m\u001b[0m\n",
      "\u001b[1;31mIndexError\u001b[0m: list index out of range"
     ]
    }
   ],
   "source": [
    "# Criação de nova variável para armazenar somente as regras de associação\n",
    "resultados = list(regras)\n",
    "print(resultados[0])\n",
    "resultados"
   ]
  },
  {
   "cell_type": "code",
   "execution_count": 6,
   "metadata": {},
   "outputs": [
    {
     "data": {
      "text/plain": [
       "[[frozenset({'Cerveja'}),\n",
       "  0.6666666666666666,\n",
       "  [OrderedStatistic(items_base=frozenset(), items_add=frozenset({'Cerveja'}), confidence=0.6666666666666666, lift=1.0)]],\n",
       " [frozenset({'Pizza'}),\n",
       "  1.0,\n",
       "  [OrderedStatistic(items_base=frozenset(), items_add=frozenset({'Pizza'}), confidence=1.0, lift=1.0)]],\n",
       " [frozenset({'Sorvete'}),\n",
       "  0.5,\n",
       "  [OrderedStatistic(items_base=frozenset(), items_add=frozenset({'Sorvete'}), confidence=0.5, lift=1.0)]],\n",
       " [frozenset({'nan'}),\n",
       "  0.6666666666666666,\n",
       "  [OrderedStatistic(items_base=frozenset(), items_add=frozenset({'nan'}), confidence=0.6666666666666666, lift=1.0)]],\n",
       " [frozenset({'Cerveja', 'Pizza'}),\n",
       "  0.6666666666666666,\n",
       "  [OrderedStatistic(items_base=frozenset(), items_add=frozenset({'Pizza', 'Cerveja'}), confidence=0.6666666666666666, lift=1.0),\n",
       "   OrderedStatistic(items_base=frozenset({'Cerveja'}), items_add=frozenset({'Pizza'}), confidence=1.0, lift=1.0),\n",
       "   OrderedStatistic(items_base=frozenset({'Pizza'}), items_add=frozenset({'Cerveja'}), confidence=0.6666666666666666, lift=1.0)]],\n",
       " [frozenset({'Pizza', 'Sorvete'}),\n",
       "  0.5,\n",
       "  [OrderedStatistic(items_base=frozenset(), items_add=frozenset({'Sorvete', 'Pizza'}), confidence=0.5, lift=1.0),\n",
       "   OrderedStatistic(items_base=frozenset({'Pizza'}), items_add=frozenset({'Sorvete'}), confidence=0.5, lift=1.0),\n",
       "   OrderedStatistic(items_base=frozenset({'Sorvete'}), items_add=frozenset({'Pizza'}), confidence=1.0, lift=1.0)]],\n",
       " [frozenset({'Pizza', 'nan'}),\n",
       "  0.6666666666666666,\n",
       "  [OrderedStatistic(items_base=frozenset(), items_add=frozenset({'Pizza', 'nan'}), confidence=0.6666666666666666, lift=1.0),\n",
       "   OrderedStatistic(items_base=frozenset({'Pizza'}), items_add=frozenset({'nan'}), confidence=0.6666666666666666, lift=1.0),\n",
       "   OrderedStatistic(items_base=frozenset({'nan'}), items_add=frozenset({'Pizza'}), confidence=1.0, lift=1.0)]]]"
      ]
     },
     "execution_count": 6,
     "metadata": {},
     "output_type": "execute_result"
    }
   ],
   "source": [
    "# Criação de nova variável, percorrendo a variável anterior para uma melhor visualização dos resultados\n",
    "resultados2 = [list(x) for x in resultados]\n",
    "resultados2"
   ]
  },
  {
   "cell_type": "code",
   "execution_count": 8,
   "metadata": {},
   "outputs": [
    {
     "data": {
      "text/plain": [
       "[[[frozenset(), frozenset({'Cerveja'}), 0.6666666666666666, 1.0]],\n",
       " [[frozenset(), frozenset({'Pizza'}), 1.0, 1.0]],\n",
       " [[frozenset(), frozenset({'Sorvete'}), 0.5, 1.0]],\n",
       " [[frozenset(), frozenset({'nan'}), 0.6666666666666666, 1.0]],\n",
       " [[frozenset(), frozenset({'Cerveja', 'Pizza'}), 0.6666666666666666, 1.0],\n",
       "  [frozenset({'Cerveja'}), frozenset({'Pizza'}), 1.0, 1.0],\n",
       "  [frozenset({'Pizza'}), frozenset({'Cerveja'}), 0.6666666666666666, 1.0]],\n",
       " [[frozenset(), frozenset({'Pizza', 'Sorvete'}), 0.5, 1.0],\n",
       "  [frozenset({'Pizza'}), frozenset({'Sorvete'}), 0.5, 1.0],\n",
       "  [frozenset({'Sorvete'}), frozenset({'Pizza'}), 1.0, 1.0]],\n",
       " [[frozenset(), frozenset({'Pizza', 'nan'}), 0.6666666666666666, 1.0],\n",
       "  [frozenset({'Pizza'}), frozenset({'nan'}), 0.6666666666666666, 1.0],\n",
       "  [frozenset({'nan'}), frozenset({'Pizza'}), 1.0, 1.0]]]"
      ]
     },
     "execution_count": 8,
     "metadata": {},
     "output_type": "execute_result"
    }
   ],
   "source": [
    "# Criação de outra variável para a visualização das regras ficar mais fácil para o usuário, adicionando as regras encontradas na variável resultados2\n",
    "resultados3 = []\n",
    "for j in range(0,7):\n",
    "    resultados3.append([list(x) for x in resultados2[j][2]])\n",
    "resultados3"
   ]
  },
  {
   "cell_type": "code",
   "execution_count": null,
   "metadata": {},
   "outputs": [],
   "source": []
  }
 ],
 "metadata": {
  "jupytext": {
   "cell_metadata_filter": "-all",
   "main_language": "python",
   "notebook_metadata_filter": "-all"
  },
  "kernelspec": {
   "display_name": "Python 3",
   "language": "python",
   "name": "python3"
  },
  "language_info": {
   "codemirror_mode": {
    "name": "ipython",
    "version": 3
   },
   "file_extension": ".py",
   "mimetype": "text/x-python",
   "name": "python",
   "nbconvert_exporter": "python",
   "pygments_lexer": "ipython3",
   "version": "3.8.5"
  }
 },
 "nbformat": 4,
 "nbformat_minor": 4
}
